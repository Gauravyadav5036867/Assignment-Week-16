{
 "cells": [
  {
   "cell_type": "code",
   "execution_count": null,
   "id": "053b317d-d96d-416e-8417-9f7e066dda4f",
   "metadata": {},
   "outputs": [],
   "source": [
    "#Question 1\n",
    "\n",
    "Linear SVM Regression: Primal Formula\n",
    "∀ n : | y n − ( x n ′ β + b ) | ≤ ε . It is possible that no such function f(x) exists to satisfy these constraints for all points. To deal with otherwise infeasible constraints, introduce slack variables ξn and ξ*n for each point."
   ]
  },
  {
   "cell_type": "code",
   "execution_count": null,
   "id": "8e5d449b-13f3-44f4-85b2-2760baf6e249",
   "metadata": {},
   "outputs": [],
   "source": [
    "#Question 2\n",
    "\n",
    "The main objective of the SVM algorithm is to find the optimal hyperplane in an N-dimensional space that can separate the data points in different classes in the feature space. The hyperplane tries that the margin between the closest points of different classes should be as maximum as possible."
   ]
  },
  {
   "cell_type": "code",
   "execution_count": null,
   "id": "7f09a217-452e-4b76-a6b9-c3bf23ee0bb1",
   "metadata": {},
   "outputs": [],
   "source": [
    "#Question 3\n",
    "\n",
    "SVM has a technique called the kernel trick. These are functions that take low dimensional input space and transform it into a higher-dimensional space i.e. it converts not separable problem to separable problem."
   ]
  },
  {
   "cell_type": "code",
   "execution_count": null,
   "id": "d51ae3b7-dd83-4ab5-b503-8bb0532f5e31",
   "metadata": {},
   "outputs": [],
   "source": [
    "#Question 4\n",
    "Support Vectors: These are the points that are closest to the hyperplane. A separating line will be defined with the help of these data points. Margin: it is the distance between the hyperplane and the observations closest to the hyperplane (support vectors). In SVM large margin is considered a good margin"
   ]
  },
  {
   "cell_type": "code",
   "execution_count": null,
   "id": "c8d13520-737d-4725-9a1c-ac7eaf809850",
   "metadata": {},
   "outputs": [],
   "source": [
    "#Question 5\n",
    "1. Hyperplane\n",
    "In SVM, a hyperplane is a decision boundary that separates classes in an n-dimensional space where n is the number of features. For a binary classification problem, it's a line in 2D, a plane in 3D, and a higher-dimensional plane in higher dimensions.\n",
    "\n",
    "Example:\n",
    "Consider a simple 2D classification problem with two classes (red and blue points). The hyperplane (decision boundary) is represented as a line that separates the two classes maximally:\n",
    "\n",
    "\n",
    "2. Marginal Plane\n",
    "The marginal plane refers to the planes that are parallel to the hyperplane and pass through the support vectors. Support vectors are the data points closest to the hyperplane and are crucial in defining it.\n",
    "\n",
    "Example:\n",
    "In the context of SVM, the marginal planes are the dashed lines parallel to the hyperplane (solid line) and pass through the support vectors (marked as circles in the plot):\n",
    "\n",
    "\n",
    "3. Hard Margin SVM\n",
    "Hard margin SVM aims to find a hyperplane that completely separates the classes without allowing any misclassifications. This works well when the data is linearly separable.\n",
    "\n",
    "Example:\n",
    "For linearly separable data, the hard margin SVM finds a hyperplane (solid line) that separates the two classes (red and blue points) without any points falling within the margins (the area between the dashed lines):\n",
    "\n",
    "\n",
    "4. Soft Margin SVM\n",
    "Soft margin SVM allows for some misclassifications to achieve a balance between maximizing the margin and minimizing the classification errors. It introduces a penalty parameter (C) that controls the trade-off between the margin width and the number of misclassifications.\n",
    "\n",
    "Example:\n",
    "For data that is not perfectly separable, the soft margin SVM finds a hyperplane (solid line) that maximizes the margin while allowing some points to fall within the margins (the area between the dashed lines):"
   ]
  },
  {
   "cell_type": "code",
   "execution_count": null,
   "id": "9bb9e0b4-9802-4f02-ab31-74327d0754b8",
   "metadata": {},
   "outputs": [],
   "source": [
    "#Question "
   ]
  }
 ],
 "metadata": {
  "kernelspec": {
   "display_name": "Python 3 (ipykernel)",
   "language": "python",
   "name": "python3"
  },
  "language_info": {
   "codemirror_mode": {
    "name": "ipython",
    "version": 3
   },
   "file_extension": ".py",
   "mimetype": "text/x-python",
   "name": "python",
   "nbconvert_exporter": "python",
   "pygments_lexer": "ipython3",
   "version": "3.10.8"
  }
 },
 "nbformat": 4,
 "nbformat_minor": 5
}
